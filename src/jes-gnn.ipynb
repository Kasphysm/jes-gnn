{
 "cells": [
  {
   "cell_type": "code",
   "execution_count": 176,
   "outputs": [],
   "source": [
    "import math\n",
    "import torch\n",
    "import torch.nn as nn\n",
    "import torch.nn.functional as F\n",
    "import dgl\n",
    "from dgl.nn import GraphConv\n",
    "import h5py\n",
    "from XMLHandler import XMLHandler"
   ],
   "metadata": {
    "collapsed": false,
    "pycharm": {
     "name": "#%%\n"
    }
   }
  },
  {
   "cell_type": "code",
   "execution_count": 177,
   "outputs": [],
   "source": [
    "photon_file = h5py.File('../data/dataset_1_photons_1.hdf5', 'r')\n",
    "xml = XMLHandler('photon', filename='../data/binning_dataset_1_photons.xml')"
   ],
   "metadata": {
    "collapsed": false,
    "pycharm": {
     "name": "#%%\n"
    }
   }
  },
  {
   "cell_type": "code",
   "execution_count": 178,
   "outputs": [],
   "source": [
    "def get_orig_coord(bin_no, xml):\n",
    "    for layer in range(len(xml.bin_edges)):\n",
    "        if bin_no >= xml.bin_edges[layer]:\n",
    "            continue\n",
    "        else:\n",
    "            layer = layer-1\n",
    "            break\n",
    "    bin_no = bin_no - xml.bin_edges[layer]\n",
    "    r_bin = int(bin_no / xml.a_bins[layer])\n",
    "    alpha_bin = bin_no % xml.a_bins[layer]\n",
    "    return layer, r_bin, alpha_bin\n",
    "\n",
    "def get_coord(bin_no, xml):\n",
    "    layer, r_bin, alpha_bin = get_orig_coord(bin_no, xml)\n",
    "    r = xml.r_midvalue[layer][r_bin]\n",
    "    alpha = xml.alphaListPerLayer[layer][r_bin][alpha_bin]\n",
    "    eta = r * math.sin(alpha)\n",
    "    phi = r * math.cos(alpha)\n",
    "    z = layer\n",
    "    return eta, phi, z\n",
    "\n",
    "def generate_graph_from_incident(incident_data):\n",
    "    bin_num = len(incident_data)\n",
    "\n",
    "    edges_start = torch.arange(bin_num).repeat(bin_num)\n",
    "    edges_end = torch.repeat_interleave(torch.arange(bin_num),bin_num)\n",
    "    g = dgl.graph((edges_start, edges_end))\n",
    "\n",
    "    g.ndata['x'] = torch.empty(g.num_nodes(), 4)\n",
    "\n",
    "    for bin_no in range(bin_num):\n",
    "        eta, phi, z = get_coord(bin_no, xml)\n",
    "        energy = incident_data[bin_no]\n",
    "        g.ndata['x'][bin_no] = torch.tensor([eta, phi, z, energy])\n",
    "\n",
    "    return g\n",
    "\n",
    "def generate_knn_graph_from_incident(incident_data, k):\n",
    "    bin_num = len(incident_data)\n",
    "\n",
    "    x = torch.empty(bin_num, 3)\n",
    "    energy = torch.empty(bin_num)\n",
    "\n",
    "    for bin_no in range(bin_num):\n",
    "        eta, phi, z = get_coord(bin_no, xml)\n",
    "        energy[bin_no] = incident_data[bin_no]\n",
    "        x[bin_no] = torch.tensor([eta, phi, z])\n",
    "\n",
    "    knn_g = dgl.knn_graph(x, k, algorithm='bruteforce-blas', dist='euclidean')\n",
    "\n",
    "    energy = energy.view(bin_num,1)\n",
    "    knn_g.ndata['x'] = torch.cat((x, energy), 1)\n",
    "\n",
    "    return knn_g"
   ],
   "metadata": {
    "collapsed": false,
    "pycharm": {
     "name": "#%%\n"
    }
   }
  },
  {
   "cell_type": "code",
   "execution_count": 179,
   "outputs": [],
   "source": [
    "data = photon_file[\"showers\"][:]\n",
    "\n",
    "graph_list = []\n",
    "knn_graph_list = []\n",
    "\n",
    "# for incident_no in range(len(data)):\n",
    "for incident_no in range(1):\n",
    "    g = generate_graph_from_incident(data[incident_no])\n",
    "    graph_list.append(g)\n",
    "    knn_g = generate_knn_graph_from_incident(data[incident_no], 5)\n",
    "    knn_graph_list.append(knn_g)"
   ],
   "metadata": {
    "collapsed": false,
    "pycharm": {
     "name": "#%%\n"
    }
   }
  },
  {
   "cell_type": "code",
   "execution_count": 180,
   "outputs": [],
   "source": [
    "# class GCNLayer(nn.Module):\n",
    "#\n",
    "#     def __init__(self, c_in, c_out):\n",
    "#         super().__init__()\n",
    "#         self.projection = nn.Linear(c_in, c_out)\n",
    "#\n",
    "#     def forward(self, node_feats, adj_matrix):\n",
    "#         num_neighbours = adj_matrix.sum(dim=-1, keepdims=True)\n",
    "#         node_feats = self.projection(node_feats)\n",
    "#         node_feats = torch.bmm(adj_matrix, node_feats)\n",
    "#         node_feats = node_feats / num_neighbours\n",
    "#         return node_feats\n",
    "#\n",
    "# test_graph = graph_list[0]\n",
    "# node_feats = test_graph.ndata['x'].view(1, 368, 4)\n",
    "# adj_matrix = torch.ones(1, 368, 368)\n",
    "# layer = GCNLayer(c_in=4, c_out=4)\n",
    "# layer.projection.weight.data = torch.Tensor([[1., 0., 0., 0.], [0., 1., 0., 0.], [0., 0., 1., 0.], [0., 0., 0., 1.]])\n",
    "# layer.projection.bias.data = torch.Tensor([0., 0., 0., 0.])\n",
    "#\n",
    "# with torch.no_grad():\n",
    "#     out_feats = layer(node_feats, adj_matrix)\n",
    "#\n",
    "# print(\"input: \", node_feats)\n",
    "# print(\"output: \", out_feats)"
   ],
   "metadata": {
    "collapsed": false,
    "pycharm": {
     "name": "#%%\n"
    }
   }
  },
  {
   "cell_type": "code",
   "execution_count": 181,
   "outputs": [],
   "source": [
    "class GCN(nn.Module):\n",
    "\n",
    "    def __init__(self, in_feats, h_feats):\n",
    "        super(GCN, self).__init__()\n",
    "        self.conv = GraphConv(in_feats, h_feats)\n",
    "\n",
    "    def forward(self, g, in_feat):\n",
    "        h = self.conv(g, in_feat)\n",
    "        h = F.relu(h)\n",
    "        return h"
   ],
   "metadata": {
    "collapsed": false,
    "pycharm": {
     "name": "#%%\n"
    }
   }
  },
  {
   "cell_type": "code",
   "execution_count": 182,
   "outputs": [
    {
     "name": "stdout",
     "output_type": "stream",
     "text": [
      "input:  tensor([[   0.0000,    2.5000,    0.0000,  300.0140],\n",
      "        [   0.0000,    7.5000,    0.0000,   44.5615],\n",
      "        [   0.0000,   20.0000,    0.0000,    0.0000],\n",
      "        ...,\n",
      "        [   0.0000,  300.0000,   12.0000,    0.0000],\n",
      "        [   0.0000,  700.0000,   12.0000,    0.0000],\n",
      "        [   0.0000, 1500.0000,   12.0000,    0.0000]])\n",
      "output:  tensor([[32.5894, 20.2173, 12.7463,  0.0000],\n",
      "        [32.5894, 20.2173, 12.7463,  0.0000],\n",
      "        [32.5894, 20.2173, 12.7463,  0.0000],\n",
      "        ...,\n",
      "        [32.5894, 20.2173, 12.7463,  0.0000],\n",
      "        [32.5894, 20.2173, 12.7463,  0.0000],\n",
      "        [32.5894, 20.2173, 12.7463,  0.0000]])\n"
     ]
    }
   ],
   "source": [
    "# Pass a graph through GCN\n",
    "test_graph = graph_list[0]\n",
    "node_feats = test_graph.ndata['x']\n",
    "model = GCN(in_feats=4, h_feats=4)\n",
    "\n",
    "with torch.no_grad():\n",
    "    out_feats = model(test_graph, node_feats)\n",
    "\n",
    "print(\"input: \", node_feats)\n",
    "print(\"output: \", out_feats)"
   ],
   "metadata": {
    "collapsed": false,
    "pycharm": {
     "name": "#%%\n"
    }
   }
  },
  {
   "cell_type": "code",
   "execution_count": 183,
   "outputs": [
    {
     "name": "stdout",
     "output_type": "stream",
     "text": [
      "input:  tensor([[   0.0000,    2.5000,    0.0000,  300.0140],\n",
      "        [   0.0000,    7.5000,    0.0000,   44.5615],\n",
      "        [   0.0000,   20.0000,    0.0000,    0.0000],\n",
      "        ...,\n",
      "        [   0.0000,  300.0000,   12.0000,    0.0000],\n",
      "        [   0.0000,  700.0000,   12.0000,    0.0000],\n",
      "        [   0.0000, 1500.0000,   12.0000,    0.0000]])\n",
      "output:  tensor([[  0.0000,   8.5909,   0.0000,  55.5512],\n",
      "        [  0.0000,   6.1481,   0.0000,  29.5607],\n",
      "        [  8.1787,   6.7644,   0.0000,   9.6989],\n",
      "        ...,\n",
      "        [161.0800,  59.9888,   0.0000,  26.2295],\n",
      "        [380.3068, 130.2166,   0.0000,  45.7999],\n",
      "        [764.2410, 279.6509,   0.0000,  90.4780]])\n"
     ]
    }
   ],
   "source": [
    "# Pass a k-nn graph through GCN\n",
    "test_graph = knn_graph_list[0]\n",
    "node_feats = test_graph.ndata['x']\n",
    "model = GCN(in_feats=4, h_feats=4)\n",
    "\n",
    "with torch.no_grad():\n",
    "    out_feats = model(test_graph, node_feats)\n",
    "\n",
    "print(\"input: \", node_feats)\n",
    "print(\"output: \", out_feats)"
   ],
   "metadata": {
    "collapsed": false,
    "pycharm": {
     "name": "#%%\n"
    }
   }
  },
  {
   "cell_type": "code",
   "execution_count": 183,
   "outputs": [],
   "source": [],
   "metadata": {
    "collapsed": false,
    "pycharm": {
     "name": "#%%\n"
    }
   }
  }
 ],
 "metadata": {
  "kernelspec": {
   "display_name": "Python 3",
   "language": "python",
   "name": "python3"
  },
  "language_info": {
   "codemirror_mode": {
    "name": "ipython",
    "version": 2
   },
   "file_extension": ".py",
   "mimetype": "text/x-python",
   "name": "python",
   "nbconvert_exporter": "python",
   "pygments_lexer": "ipython2",
   "version": "2.7.6"
  }
 },
 "nbformat": 4,
 "nbformat_minor": 0
}