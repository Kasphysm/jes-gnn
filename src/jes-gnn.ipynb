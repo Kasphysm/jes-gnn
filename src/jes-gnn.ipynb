{
 "cells": [
  {
   "cell_type": "code",
   "execution_count": 3,
   "outputs": [],
   "source": [
    "import math\n",
    "import torch\n",
    "import torch.nn as nn\n",
    "import torch.nn.functional as F\n",
    "import torch.utils.data as data\n",
    "import torch.optim as optim\n",
    "import dgl\n",
    "from dgl.nn import GraphConv\n",
    "import h5py\n",
    "from HighLevelFeatures import HighLevelFeatures as HLF\n",
    "from XMLHandler import XMLHandler"
   ],
   "metadata": {
    "collapsed": false,
    "pycharm": {
     "name": "#%%\n"
    }
   }
  },
  {
   "cell_type": "code",
   "execution_count": 4,
   "outputs": [],
   "source": [
    "HLF_1_photons = HLF('photon', filename='../data/binning_dataset_1_photons.xml')\n",
    "photon_file = h5py.File('../data/dataset_1_photons_1.hdf5', 'r')\n",
    "xml = XMLHandler('photon', filename='../data/binning_dataset_1_photons.xml')\n",
    "\n",
    "def get_orig_coord(bin_no, xml):\n",
    "    for layer in range(len(xml.bin_edges)):\n",
    "        if bin_no >= xml.bin_edges[layer]:\n",
    "            continue\n",
    "        else:\n",
    "            layer = layer-1\n",
    "            break\n",
    "    bin_no = bin_no - xml.bin_edges[layer]\n",
    "    r_bin = int(bin_no / xml.a_bins[layer])\n",
    "    alpha_bin = bin_no % xml.a_bins[layer]\n",
    "    return layer, r_bin, alpha_bin\n",
    "\n",
    "def get_coord(bin_no, xml):\n",
    "    layer, r_bin, alpha_bin = get_orig_coord(bin_no, xml)\n",
    "    r = xml.r_midvalue[layer][r_bin]\n",
    "    alpha = xml.alphaListPerLayer[layer][r_bin][alpha_bin]\n",
    "    eta = r * math.sin(alpha)\n",
    "    phi = r * math.cos(alpha)\n",
    "    z = layer\n",
    "    return eta, phi, z\n",
    "\n",
    "def generate_graph_from_incident(data, incident_no):\n",
    "    bin_num = len(data[incident_no])\n",
    "\n",
    "    edges_start = torch.arange(bin_num).repeat(bin_num)\n",
    "    edges_end = torch.repeat_interleave(torch.arange(bin_num),bin_num)\n",
    "    g = dgl.graph((edges_start, edges_end))\n",
    "\n",
    "    g.ndata['x'] = torch.empty(g.num_nodes(), 3)\n",
    "\n",
    "    for bin_no in range(len(data[incident_no])):\n",
    "        eta, phi, z = get_coord(bin_no, xml)\n",
    "        g.ndata['x'][bin_no] = torch.tensor([eta, phi, z])\n",
    "\n",
    "    return g\n",
    "\n",
    "data = photon_file[\"showers\"][:]\n",
    "\n",
    "graph_list = []\n",
    "\n",
    "# for incident_no in range(len(data)):\n",
    "for incident_no in range(100):\n",
    "    g = generate_graph_from_incident(data, incident_no)\n",
    "    graph_list.append(g)"
   ],
   "metadata": {
    "collapsed": false,
    "pycharm": {
     "name": "#%%\n"
    }
   }
  },
  {
   "cell_type": "code",
   "execution_count": 53,
   "outputs": [
    {
     "name": "stdout",
     "output_type": "stream",
     "text": [
      "tensor([[[   0.0000,    2.5000,    0.0000],\n",
      "         [   0.0000,    7.5000,    0.0000],\n",
      "         [   0.0000,   20.0000,    0.0000],\n",
      "         ...,\n",
      "         [   0.0000,  300.0000,   12.0000],\n",
      "         [   0.0000,  700.0000,   12.0000],\n",
      "         [   0.0000, 1500.0000,   12.0000]]])\n",
      "tensor([[[1.4512e-07, 1.3166e+01, 1.6712e+00],\n",
      "         [1.4512e-07, 1.3166e+01, 1.6712e+00],\n",
      "         [1.4512e-07, 1.3166e+01, 1.6712e+00],\n",
      "         ...,\n",
      "         [1.4512e-07, 1.3166e+01, 1.6712e+00],\n",
      "         [1.4512e-07, 1.3166e+01, 1.6712e+00],\n",
      "         [1.4512e-07, 1.3166e+01, 1.6712e+00]]])\n"
     ]
    }
   ],
   "source": [
    "class GCN(nn.Module):\n",
    "\n",
    "    def __init__(self, in_feats, h_feats):\n",
    "        super(GCN, self).__init__()\n",
    "        self.conv = GraphConv(in_feats, h_feats)\n",
    "\n",
    "    def forward(self, g, in_feat):\n",
    "        h = self.conv(g, in_feat)\n",
    "        h = F.relu(h)\n",
    "        return h\n",
    "\n",
    "class GCNLayer(nn.Module):\n",
    "\n",
    "    def __init__(self, c_in, c_out):\n",
    "        super().__init__()\n",
    "        self.projection = nn.Linear(c_in, c_out)\n",
    "\n",
    "    def forward(self, node_feats, adj_matrix):\n",
    "        num_neighbours = adj_matrix.sum(dim=-1, keepdims=True)\n",
    "        node_feats = self.projection(node_feats)\n",
    "        node_feats = torch.bmm(adj_matrix, node_feats)\n",
    "        node_feats = node_feats / num_neighbours\n",
    "        return node_feats\n",
    "\n",
    "\n",
    "node_feats = graph_list[0].ndata['x'].view(1, 368, 3)\n",
    "adj_matrix = torch.ones(1, 368, 368)\n",
    "layer = GCNLayer(c_in=3, c_out=3)\n",
    "layer.projection.weight.data = torch.Tensor([[1., 0., 0.], [0., 1., 0.], [0., 0., 1.]])\n",
    "layer.projection.bias.data = torch.Tensor([0., 0., 0.])\n",
    "\n",
    "with torch.no_grad():\n",
    "    out_feats = layer(node_feats, adj_matrix)\n",
    "\n",
    "print(node_feats)\n",
    "print(out_feats)"
   ],
   "metadata": {
    "collapsed": false,
    "pycharm": {
     "name": "#%%\n"
    }
   }
  }
 ],
 "metadata": {
  "kernelspec": {
   "display_name": "Python 3",
   "language": "python",
   "name": "python3"
  },
  "language_info": {
   "codemirror_mode": {
    "name": "ipython",
    "version": 2
   },
   "file_extension": ".py",
   "mimetype": "text/x-python",
   "name": "python",
   "nbconvert_exporter": "python",
   "pygments_lexer": "ipython2",
   "version": "2.7.6"
  }
 },
 "nbformat": 4,
 "nbformat_minor": 0
}