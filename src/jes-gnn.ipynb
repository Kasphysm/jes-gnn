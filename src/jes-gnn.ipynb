{
 "cells": [
  {
   "cell_type": "code",
   "execution_count": 3,
   "outputs": [
    {
     "ename": "KeyboardInterrupt",
     "evalue": "",
     "output_type": "error",
     "traceback": [
      "\u001B[0;31m---------------------------------------------------------------------------\u001B[0m",
      "\u001B[0;31mKeyboardInterrupt\u001B[0m                         Traceback (most recent call last)",
      "Input \u001B[0;32mIn [3]\u001B[0m, in \u001B[0;36m<cell line: 52>\u001B[0;34m()\u001B[0m\n\u001B[1;32m     50\u001B[0m graph_list \u001B[38;5;241m=\u001B[39m []\n\u001B[1;32m     52\u001B[0m \u001B[38;5;28;01mfor\u001B[39;00m incident_no \u001B[38;5;129;01min\u001B[39;00m \u001B[38;5;28mrange\u001B[39m(\u001B[38;5;28mlen\u001B[39m(data)):\n\u001B[0;32m---> 53\u001B[0m     g \u001B[38;5;241m=\u001B[39m \u001B[43mgenerate_graph_grom_incident\u001B[49m\u001B[43m(\u001B[49m\u001B[43mdata\u001B[49m\u001B[43m,\u001B[49m\u001B[43m \u001B[49m\u001B[43mincident_no\u001B[49m\u001B[43m)\u001B[49m\n\u001B[1;32m     54\u001B[0m     graph_list\u001B[38;5;241m.\u001B[39mappend(g)\n",
      "Input \u001B[0;32mIn [3]\u001B[0m, in \u001B[0;36mgenerate_graph_grom_incident\u001B[0;34m(data, incident_no)\u001B[0m\n\u001B[1;32m     40\u001B[0m g\u001B[38;5;241m.\u001B[39mndata[\u001B[38;5;124m'\u001B[39m\u001B[38;5;124mx\u001B[39m\u001B[38;5;124m'\u001B[39m] \u001B[38;5;241m=\u001B[39m torch\u001B[38;5;241m.\u001B[39mempty(g\u001B[38;5;241m.\u001B[39mnum_nodes(), \u001B[38;5;241m3\u001B[39m)\n\u001B[1;32m     42\u001B[0m \u001B[38;5;28;01mfor\u001B[39;00m bin_no \u001B[38;5;129;01min\u001B[39;00m \u001B[38;5;28mrange\u001B[39m(\u001B[38;5;28mlen\u001B[39m(data[incident_no])):\n\u001B[0;32m---> 43\u001B[0m     eta, phi, z \u001B[38;5;241m=\u001B[39m \u001B[43mget_coord\u001B[49m\u001B[43m(\u001B[49m\u001B[43mbin_no\u001B[49m\u001B[43m,\u001B[49m\u001B[43m \u001B[49m\u001B[43mxml\u001B[49m\u001B[43m)\u001B[49m\n\u001B[1;32m     44\u001B[0m     g\u001B[38;5;241m.\u001B[39mndata[\u001B[38;5;124m'\u001B[39m\u001B[38;5;124mx\u001B[39m\u001B[38;5;124m'\u001B[39m][bin_no] \u001B[38;5;241m=\u001B[39m torch\u001B[38;5;241m.\u001B[39mtensor([eta, phi, z])\n\u001B[1;32m     46\u001B[0m \u001B[38;5;28;01mreturn\u001B[39;00m g\n",
      "Input \u001B[0;32mIn [3]\u001B[0m, in \u001B[0;36mget_coord\u001B[0;34m(bin_no, xml)\u001B[0m\n\u001B[1;32m     24\u001B[0m \u001B[38;5;28;01mdef\u001B[39;00m \u001B[38;5;21mget_coord\u001B[39m(bin_no, xml):\n\u001B[0;32m---> 25\u001B[0m     layer, r_bin, alpha_bin \u001B[38;5;241m=\u001B[39m \u001B[43mget_orig_coord\u001B[49m\u001B[43m(\u001B[49m\u001B[43mbin_no\u001B[49m\u001B[43m,\u001B[49m\u001B[43m \u001B[49m\u001B[43mxml\u001B[49m\u001B[43m)\u001B[49m\n\u001B[1;32m     26\u001B[0m     r \u001B[38;5;241m=\u001B[39m xml\u001B[38;5;241m.\u001B[39mr_midvalue[layer][r_bin]\n\u001B[1;32m     27\u001B[0m     alpha \u001B[38;5;241m=\u001B[39m xml\u001B[38;5;241m.\u001B[39malphaListPerLayer[layer][r_bin][alpha_bin]\n",
      "Input \u001B[0;32mIn [3]\u001B[0m, in \u001B[0;36mget_orig_coord\u001B[0;34m(bin_no, xml)\u001B[0m\n\u001B[1;32m     16\u001B[0m     \u001B[38;5;28;01melse\u001B[39;00m:\n\u001B[1;32m     17\u001B[0m         layer \u001B[38;5;241m=\u001B[39m layer\u001B[38;5;241m-\u001B[39m\u001B[38;5;241m1\u001B[39m\n\u001B[0;32m---> 18\u001B[0m         \u001B[38;5;28;01mbreak\u001B[39;00m\n\u001B[1;32m     19\u001B[0m bin_no \u001B[38;5;241m=\u001B[39m bin_no \u001B[38;5;241m-\u001B[39m xml\u001B[38;5;241m.\u001B[39mbin_edges[layer]\n\u001B[1;32m     20\u001B[0m r_bin \u001B[38;5;241m=\u001B[39m \u001B[38;5;28mint\u001B[39m(bin_no \u001B[38;5;241m/\u001B[39m xml\u001B[38;5;241m.\u001B[39ma_bins[layer])\n",
      "\u001B[0;31mKeyboardInterrupt\u001B[0m: "
     ]
    }
   ],
   "source": [
    "import math\n",
    "import torch\n",
    "import dgl\n",
    "import h5py\n",
    "from HighLevelFeatures import HighLevelFeatures as HLF\n",
    "from XMLHandler import XMLHandler\n",
    "\n",
    "HLF_1_photons = HLF('photon', filename='../data/binning_dataset_1_photons.xml')\n",
    "photon_file = h5py.File('../data/dataset_1_photons_1.hdf5', 'r')\n",
    "xml = XMLHandler('photon', filename='../data/binning_dataset_1_photons.xml')\n",
    "\n",
    "def get_orig_coord(bin_no, xml):\n",
    "    for layer in range(len(xml.bin_edges)):\n",
    "        if bin_no >= xml.bin_edges[layer]:\n",
    "            continue\n",
    "        else:\n",
    "            layer = layer-1\n",
    "            break\n",
    "    bin_no = bin_no - xml.bin_edges[layer]\n",
    "    r_bin = int(bin_no / xml.a_bins[layer])\n",
    "    alpha_bin = bin_no % xml.a_bins[layer]\n",
    "    return layer, r_bin, alpha_bin\n",
    "\n",
    "def get_coord(bin_no, xml):\n",
    "    layer, r_bin, alpha_bin = get_orig_coord(bin_no, xml)\n",
    "    r = xml.r_midvalue[layer][r_bin]\n",
    "    alpha = xml.alphaListPerLayer[layer][r_bin][alpha_bin]\n",
    "    eta = r * math.sin(alpha)\n",
    "    phi = r * math.cos(alpha)\n",
    "    z = layer\n",
    "    return eta, phi, z\n",
    "\n",
    "def generate_graph_grom_incident(data, incident_no):\n",
    "    bin_num = len(data[incident_no])\n",
    "\n",
    "    edges_start = torch.arange(bin_num).repeat(bin_num)\n",
    "    edges_end = torch.repeat_interleave(torch.arange(bin_num),bin_num)\n",
    "    g = dgl.graph((edges_start, edges_end))\n",
    "\n",
    "    g.ndata['x'] = torch.empty(g.num_nodes(), 3)\n",
    "\n",
    "    for bin_no in range(len(data[incident_no])):\n",
    "        eta, phi, z = get_coord(bin_no, xml)\n",
    "        g.ndata['x'][bin_no] = torch.tensor([eta, phi, z])\n",
    "\n",
    "    return g\n",
    "\n",
    "data = photon_file[\"showers\"][:]\n",
    "\n",
    "graph_list = []\n",
    "\n",
    "for incident_no in range(len(data)):\n",
    "    g = generate_graph_grom_incident(data, incident_no)\n",
    "    graph_list.append(g)"
   ],
   "metadata": {
    "collapsed": false,
    "pycharm": {
     "name": "#%%\n"
    }
   }
  },
  {
   "cell_type": "code",
   "execution_count": null,
   "outputs": [],
   "source": [],
   "metadata": {
    "collapsed": false,
    "pycharm": {
     "name": "#%%\n"
    }
   }
  }
 ],
 "metadata": {
  "kernelspec": {
   "display_name": "Python 3",
   "language": "python",
   "name": "python3"
  },
  "language_info": {
   "codemirror_mode": {
    "name": "ipython",
    "version": 2
   },
   "file_extension": ".py",
   "mimetype": "text/x-python",
   "name": "python",
   "nbconvert_exporter": "python",
   "pygments_lexer": "ipython2",
   "version": "2.7.6"
  }
 },
 "nbformat": 4,
 "nbformat_minor": 0
}