{
 "cells": [
  {
   "cell_type": "markdown",
   "source": [
    "## Preprocess\n",
    "### Import"
   ],
   "metadata": {
    "collapsed": false,
    "pycharm": {
     "name": "#%% md\n"
    }
   }
  },
  {
   "cell_type": "code",
   "execution_count": 434,
   "outputs": [],
   "source": [
    "import os\n",
    "import math\n",
    "import numpy as np\n",
    "import pandas as pd\n",
    "from matplotlib import pyplot as plt\n",
    "import torch\n",
    "import torch.nn as nn\n",
    "import torch.nn.functional as F\n",
    "from torch.utils.data.sampler import SubsetRandomSampler\n",
    "import dgl\n",
    "from dgl.nn import GraphConv\n",
    "from dgl.data import DGLDataset\n",
    "from dgl.dataloading import GraphDataLoader\n",
    "from dgl import save_graphs, load_graphs\n",
    "import h5py\n",
    "from XMLHandler import XMLHandler"
   ],
   "metadata": {
    "collapsed": false,
    "pycharm": {
     "name": "#%%\n"
    }
   }
  },
  {
   "cell_type": "markdown",
   "source": [
    "### Data Loading"
   ],
   "metadata": {
    "collapsed": false,
    "pycharm": {
     "name": "#%% md\n"
    }
   }
  },
  {
   "cell_type": "code",
   "execution_count": 185,
   "outputs": [],
   "source": [
    "photon_file = h5py.File('../data/dataset_1_photons_1.hdf5', 'r')\n",
    "xml = XMLHandler('photon', filename='../data/binning_dataset_1_photons.xml')\n",
    "\n",
    "shower_data = photon_file[\"showers\"][:]\n",
    "energy_data = photon_file[\"incident_energies\"][:]"
   ],
   "metadata": {
    "collapsed": false,
    "pycharm": {
     "name": "#%%\n"
    }
   }
  },
  {
   "cell_type": "markdown",
   "source": [
    "### Data Process"
   ],
   "metadata": {
    "collapsed": false,
    "pycharm": {
     "name": "#%% md\n"
    }
   }
  },
  {
   "cell_type": "code",
   "execution_count": 391,
   "outputs": [],
   "source": [
    "def get_orig_coord(bin_no, xml):\n",
    "    for layer in range(len(xml.bin_edges)):\n",
    "        if bin_no >= xml.bin_edges[layer]:\n",
    "            continue\n",
    "        else:\n",
    "            layer = layer-1\n",
    "            break\n",
    "    bin_no = bin_no - xml.bin_edges[layer]\n",
    "    r_bin = int(bin_no / xml.a_bins[layer])\n",
    "    alpha_bin = bin_no % xml.a_bins[layer]\n",
    "    return layer, r_bin, alpha_bin\n",
    "\n",
    "def get_coord(bin_no, xml):\n",
    "    layer, r_bin, alpha_bin = get_orig_coord(bin_no, xml)\n",
    "    r = xml.r_midvalue[layer][r_bin]\n",
    "    alpha = xml.alphaListPerLayer[layer][r_bin][alpha_bin]\n",
    "    eta = r * math.sin(alpha)\n",
    "    phi = r * math.cos(alpha)\n",
    "    z = layer\n",
    "    return eta, phi, z"
   ],
   "metadata": {
    "collapsed": false,
    "pycharm": {
     "name": "#%%\n"
    }
   }
  },
  {
   "cell_type": "code",
   "execution_count": 486,
   "outputs": [],
   "source": [
    "def generate_graph_from_incident(incident_data):\n",
    "    bin_num = len(incident_data)\n",
    "\n",
    "    edges_start = torch.arange(bin_num).repeat(bin_num)\n",
    "    edges_end = torch.repeat_interleave(torch.arange(bin_num),bin_num)\n",
    "    g = dgl.graph((edges_start, edges_end))\n",
    "\n",
    "    g.ndata['x'] = torch.empty(g.num_nodes(), 4)\n",
    "    g.ndata['h'] = torch.empty(g.num_nodes(), 1)\n",
    "\n",
    "    for bin_no in range(bin_num):\n",
    "        eta, phi, z = get_coord(bin_no, xml)\n",
    "        energy = incident_data[bin_no]\n",
    "        g.ndata['x'][bin_no] = torch.tensor([eta, phi, z, energy])\n",
    "        g.ndata['h'][bin_no] = torch.tensor([0.0])\n",
    "\n",
    "    return g\n",
    "\n",
    "def generate_knn_graph_from_incident(incident_data, k):\n",
    "    bin_num = len(incident_data)\n",
    "\n",
    "    x = torch.empty(bin_num, 3)\n",
    "    energy = torch.empty(bin_num)\n",
    "\n",
    "    for bin_no in range(bin_num):\n",
    "        eta, phi, z = get_coord(bin_no, xml)\n",
    "        energy[bin_no] = incident_data[bin_no]\n",
    "        x[bin_no] = torch.tensor([eta, phi, z])\n",
    "\n",
    "    knn_g = dgl.knn_graph(x, k, algorithm='bruteforce-blas', dist='euclidean')\n",
    "\n",
    "    energy = energy.view(bin_num,1)\n",
    "    knn_g.ndata['x'] = torch.cat((x, energy), -1)\n",
    "    knn_g.ndata['h'] = torch.zeros(bin_num, 1)\n",
    "\n",
    "    return knn_g"
   ],
   "metadata": {
    "collapsed": false,
    "pycharm": {
     "name": "#%%\n"
    }
   }
  },
  {
   "cell_type": "code",
   "execution_count": 487,
   "outputs": [],
   "source": [
    "graph_list = []\n",
    "knn_graph_list = []\n",
    "\n",
    "# for incident_no in range(len(data)):\n",
    "for incident_no in range(10000):\n",
    "    g = generate_graph_from_incident(shower_data[incident_no])\n",
    "    graph_list.append(g)\n",
    "    knn_g = generate_knn_graph_from_incident(shower_data[incident_no], 5)\n",
    "    knn_graph_list.append(knn_g)"
   ],
   "metadata": {
    "collapsed": false,
    "pycharm": {
     "name": "#%%\n"
    }
   }
  },
  {
   "cell_type": "markdown",
   "source": [
    "### Saving Data"
   ],
   "metadata": {
    "collapsed": false,
    "pycharm": {
     "name": "#%% md\n"
    }
   }
  },
  {
   "cell_type": "code",
   "execution_count": 494,
   "outputs": [],
   "source": [
    "graph_path = \"../data/graph.bin\"\n",
    "knn_graph_path = \"../data/knn_graph.bin\"\n",
    "save_graphs(graph_path, graph_list)\n",
    "save_graphs(knn_graph_path, knn_graph_list)"
   ],
   "metadata": {
    "collapsed": false,
    "pycharm": {
     "name": "#%%\n"
    }
   }
  },
  {
   "cell_type": "markdown",
   "source": [
    "### Loading Data"
   ],
   "metadata": {
    "collapsed": false,
    "pycharm": {
     "name": "#%% md\n"
    }
   }
  },
  {
   "cell_type": "code",
   "execution_count": null,
   "outputs": [],
   "source": [
    "graph_path = \"../data/graph.bin\"\n",
    "knn_graph_path = \"../data/knn_graph.bin\"\n",
    "graph_list = load_graphs(graph_path)\n",
    "knn_graph_list = load_graphs(knn_graph_path)"
   ],
   "metadata": {
    "collapsed": false,
    "pycharm": {
     "name": "#%%\n"
    }
   }
  },
  {
   "cell_type": "markdown",
   "source": [
    "## GCNLayer and GCN"
   ],
   "metadata": {
    "collapsed": false,
    "pycharm": {
     "name": "#%% md\n"
    }
   }
  },
  {
   "cell_type": "code",
   "execution_count": 188,
   "outputs": [],
   "source": [
    "# class GCNLayer(nn.Module):\n",
    "#\n",
    "#     def __init__(self, c_in, c_out):\n",
    "#         super().__init__()\n",
    "#         self.projection = nn.Linear(c_in, c_out)\n",
    "#\n",
    "#     def forward(self, node_feats, adj_matrix):\n",
    "#         num_neighbours = adj_matrix.sum(dim=-1, keepdims=True)\n",
    "#         node_feats = self.projection(node_feats)\n",
    "#         node_feats = torch.bmm(adj_matrix, node_feats)\n",
    "#         node_feats = node_feats / num_neighbours\n",
    "#         return node_feats\n",
    "#\n",
    "# test_graph = graph_list[0]\n",
    "# node_feats = test_graph.ndata['x'].view(1, 368, 4)\n",
    "# adj_matrix = torch.ones(1, 368, 368)\n",
    "# layer = GCNLayer(c_in=4, c_out=4)\n",
    "# layer.projection.weight.data = torch.Tensor([[1., 0., 0., 0.], [0., 1., 0., 0.], [0., 0., 1., 0.], [0., 0., 0., 1.]])\n",
    "# layer.projection.bias.data = torch.Tensor([0., 0., 0., 0.])\n",
    "#\n",
    "# with torch.no_grad():\n",
    "#     out_feats = layer(node_feats, adj_matrix)\n",
    "#\n",
    "# print(\"input: \", node_feats)\n",
    "# print(\"output: \", out_feats)"
   ],
   "metadata": {
    "collapsed": false,
    "pycharm": {
     "name": "#%%\n"
    }
   }
  },
  {
   "cell_type": "code",
   "execution_count": null,
   "outputs": [],
   "source": [
    "class GCNLayer(nn.Module):\n",
    "\n",
    "    def __init__(self, in_feats, h_feats):\n",
    "        super(GCN, self).__init__()\n",
    "        self.conv = GraphConv(in_feats, h_feats)\n",
    "\n",
    "    def forward(self, g, in_feat):\n",
    "        h = self.conv(g, in_feat)\n",
    "        h = F.relu(h)\n",
    "        return h"
   ],
   "metadata": {
    "collapsed": false,
    "pycharm": {
     "name": "#%%\n"
    }
   }
  },
  {
   "cell_type": "code",
   "execution_count": 471,
   "outputs": [],
   "source": [
    "class GCN(nn.Module):\n",
    "\n",
    "    def __init__(self, in_feats, h_feats):\n",
    "        super(GCN, self).__init__()\n",
    "        self.conv1 = GraphConv(in_feats, h_feats)\n",
    "        self.conv2 = GraphConv(h_feats, 1)\n",
    "\n",
    "    def forward(self, g, in_feat):\n",
    "        h = self.conv1(g, in_feat)\n",
    "        h = F.relu(h)\n",
    "        h = self.conv2(g, h)\n",
    "        g.ndata['h'] = h\n",
    "        return dgl.mean_nodes(g, 'h')"
   ],
   "metadata": {
    "collapsed": false,
    "pycharm": {
     "name": "#%%\n"
    }
   }
  },
  {
   "cell_type": "markdown",
   "source": [
    "### Test of 1-layer GCN with complete graph"
   ],
   "metadata": {
    "collapsed": false,
    "pycharm": {
     "name": "#%% md\n"
    }
   }
  },
  {
   "cell_type": "code",
   "execution_count": 327,
   "outputs": [
    {
     "name": "stdout",
     "output_type": "stream",
     "text": [
      "input:  tensor([[   0.0000,    2.5000,    0.0000,  300.0140],\n",
      "        [   0.0000,    7.5000,    0.0000,   44.5615],\n",
      "        [   0.0000,   20.0000,    0.0000,    0.0000],\n",
      "        ...,\n",
      "        [   0.0000,  300.0000,   12.0000,    0.0000],\n",
      "        [   0.0000,  700.0000,   12.0000,    0.0000],\n",
      "        [   0.0000, 1500.0000,   12.0000,    0.0000]])\n",
      "output:  tensor([0.])\n"
     ]
    }
   ],
   "source": [
    "# Pass a graph through a GCNLayer\n",
    "test_graph = graph_list[0]\n",
    "node_feats = test_graph.ndata['x']\n",
    "model = GCNLayer(in_feats=4, h_feats=4)\n",
    "\n",
    "with torch.no_grad():\n",
    "    out_feats = model(test_graph, node_feats)\n",
    "\n",
    "print(\"input: \", node_feats)\n",
    "print(\"output: \", out_feats)"
   ],
   "metadata": {
    "collapsed": false,
    "pycharm": {
     "name": "#%%\n"
    }
   }
  },
  {
   "cell_type": "markdown",
   "source": [
    "### Test of 1-layer GCN with k-nn graph"
   ],
   "metadata": {
    "collapsed": false,
    "pycharm": {
     "name": "#%% md\n"
    }
   }
  },
  {
   "cell_type": "code",
   "execution_count": 328,
   "outputs": [
    {
     "name": "stdout",
     "output_type": "stream",
     "text": [
      "input:  tensor([[   0.0000,    2.5000,    0.0000,  300.0140],\n",
      "        [   0.0000,    7.5000,    0.0000,   44.5615],\n",
      "        [   0.0000,   20.0000,    0.0000,    0.0000],\n",
      "        ...,\n",
      "        [   0.0000,  300.0000,   12.0000,    0.0000],\n",
      "        [   0.0000,  700.0000,   12.0000,    0.0000],\n",
      "        [   0.0000, 1500.0000,   12.0000,    0.0000]])\n",
      "output:  tensor([-2.0683])\n"
     ]
    }
   ],
   "source": [
    "# Pass a k-nn graph through a GCNLayer\n",
    "test_graph = knn_graph_list[0]\n",
    "node_feats = test_graph.ndata['x']\n",
    "model = GCNLayer(in_feats=4, h_feats=4)\n",
    "\n",
    "with torch.no_grad():\n",
    "    out_feats = model(test_graph, node_feats)\n",
    "\n",
    "print(\"input: \", node_feats)\n",
    "print(\"output: \", out_feats)"
   ],
   "metadata": {
    "collapsed": false,
    "pycharm": {
     "name": "#%%\n"
    }
   }
  },
  {
   "cell_type": "markdown",
   "source": [
    "## Training"
   ],
   "metadata": {
    "collapsed": false,
    "pycharm": {
     "name": "#%% md\n"
    }
   }
  },
  {
   "cell_type": "code",
   "execution_count": null,
   "outputs": [],
   "source": [
    "def g_train(g, model, label, lr, epochs):\n",
    "    optimizer = torch.optim.Adam(model.parameters(), lr=lr)\n",
    "\n",
    "    inputs = g.ndata['x']\n",
    "\n",
    "    for epoch in range(epochs):\n",
    "        pred = model(g, inputs)\n",
    "        loss = abs(pred[0] - label)\n",
    "        optimizer.zero_grad()\n",
    "        loss.backward()\n",
    "        optimizer.step()\n",
    "\n",
    "        if epoch % (epochs / 100) == 0:\n",
    "            print('In epoch {}, loss: {:.3f}'.format(epoch, loss[0]))"
   ],
   "metadata": {
    "collapsed": false,
    "pycharm": {
     "name": "#%%\n"
    }
   }
  },
  {
   "cell_type": "code",
   "execution_count": null,
   "outputs": [],
   "source": [
    "def train(dataset, model, labels, lr, epochs):\n",
    "    loss_list = []\n",
    "    optimizer = torch.optim.Adam(model.parameters(), lr=lr)\n",
    "\n",
    "    for epoch in range(epochs):\n",
    "        for i in range(len(dataset)):\n",
    "            g = dataset[i]\n",
    "            inputs = g.ndata['x']\n",
    "            pred = model(g, inputs)\n",
    "            loss = abs(pred[0] - labels[i])\n",
    "            optimizer.zero_grad()\n",
    "            loss.backward()\n",
    "            optimizer.step()\n",
    "\n",
    "        if epoch % (epochs / 100) == 0:\n",
    "            print('In epoch {}, loss: {:.3f}'.format(epoch, loss[0]))\n",
    "            loss_list.append(float(loss[0]))\n",
    "\n",
    "    return loss_list"
   ],
   "metadata": {
    "collapsed": false,
    "pycharm": {
     "name": "#%%\n"
    }
   }
  },
  {
   "cell_type": "code",
   "execution_count": 515,
   "outputs": [],
   "source": [
    "def plot_loss(loss_list, epochs):\n",
    "    w = np.linspace(0, epochs, 100)\n",
    "    loss_array = np.array(loss_list)\n",
    "    plt.axes(yscale = \"log\")\n",
    "    plt.plot(w, loss_array, label='Loss')\n",
    "    plt.xlabel('epochs')\n",
    "    plt.ylabel('loss function')\n",
    "    plt.show()"
   ],
   "metadata": {
    "collapsed": false,
    "pycharm": {
     "name": "#%%\n"
    }
   }
  },
  {
   "cell_type": "markdown",
   "source": [
    "### Test Training 1\n",
    "\n",
    "graph type: complete graph\n",
    "number of incidents: 1\n",
    "epochs: 1000\n",
    "opt: Adam\n",
    "loss function: abs\n",
    "dim of hidden features: 16"
   ],
   "metadata": {
    "collapsed": false,
    "pycharm": {
     "name": "#%% md\n"
    }
   }
  },
  {
   "cell_type": "code",
   "execution_count": 339,
   "outputs": [
    {
     "name": "stderr",
     "output_type": "stream",
     "text": [
      "/Users/kasphysm/miniforge3/envs/pytorch-nightly/lib/python3.8/site-packages/torch/amp/autocast_mode.py:198: UserWarning: User provided device_type of 'cuda', but CUDA is not available. Disabling\n",
      "  warnings.warn('User provided device_type of \\'cuda\\', but CUDA is not available. Disabling')\n"
     ]
    },
    {
     "name": "stdout",
     "output_type": "stream",
     "text": [
      "In epoch 0, loss: 16376.557\n",
      "In epoch 100, loss: 15869.417\n",
      "In epoch 200, loss: 14155.543\n",
      "In epoch 300, loss: 11141.400\n",
      "In epoch 400, loss: 6865.557\n",
      "In epoch 500, loss: 1376.812\n",
      "In epoch 600, loss: 7.631\n",
      "In epoch 700, loss: 4.997\n",
      "In epoch 800, loss: 1.326\n",
      "In epoch 900, loss: 8.533\n"
     ]
    }
   ],
   "source": [
    "g = graph_list[0]\n",
    "lr = 0.01\n",
    "epochs = 1000\n",
    "h_feats = 16\n",
    "\n",
    "model = GCN(in_feats=4, h_feats=h_feats)\n",
    "label = torch.Tensor(energy_data[0])\n",
    "g_train(g, model, label, lr, epochs)"
   ],
   "metadata": {
    "collapsed": false,
    "pycharm": {
     "name": "#%%\n"
    }
   }
  },
  {
   "cell_type": "markdown",
   "source": [
    "### Test Training 2\n",
    "\n",
    "graph type: complete graph\n",
    "number of incidents: 100\n",
    "epochs: 1000\n",
    "opt: Adam\n",
    "loss function: abs\n",
    "dim of hidden features: 4"
   ],
   "metadata": {
    "collapsed": false,
    "pycharm": {
     "name": "#%% md\n"
    }
   }
  },
  {
   "cell_type": "code",
   "execution_count": 369,
   "outputs": [
    {
     "name": "stderr",
     "output_type": "stream",
     "text": [
      "/Users/kasphysm/miniforge3/envs/pytorch-nightly/lib/python3.8/site-packages/torch/amp/autocast_mode.py:198: UserWarning: User provided device_type of 'cuda', but CUDA is not available. Disabling\n",
      "  warnings.warn('User provided device_type of \\'cuda\\', but CUDA is not available. Disabling')\n"
     ]
    },
    {
     "name": "stdout",
     "output_type": "stream",
     "text": [
      "In epoch 0, loss: 4095.010\n",
      "In epoch 5, loss: 3893.058\n",
      "In epoch 10, loss: 2548.695\n",
      "In epoch 15, loss: 884.875\n",
      "In epoch 20, loss: 1007.257\n",
      "In epoch 25, loss: 2913.653\n",
      "In epoch 30, loss: 4717.004\n",
      "In epoch 35, loss: 4657.673\n",
      "In epoch 40, loss: 3251.000\n",
      "In epoch 45, loss: 1972.594\n",
      "In epoch 50, loss: 832.509\n",
      "In epoch 55, loss: 14.742\n",
      "In epoch 60, loss: 20.126\n",
      "In epoch 65, loss: 20.614\n",
      "In epoch 70, loss: 15.334\n",
      "In epoch 75, loss: 15.834\n",
      "In epoch 80, loss: 15.761\n",
      "In epoch 85, loss: 16.208\n",
      "In epoch 90, loss: 16.511\n",
      "In epoch 95, loss: 16.958\n",
      "In epoch 100, loss: 17.260\n",
      "In epoch 105, loss: 17.659\n",
      "In epoch 110, loss: 18.010\n",
      "In epoch 115, loss: 18.385\n",
      "In epoch 120, loss: 18.752\n",
      "In epoch 125, loss: 19.124\n",
      "In epoch 130, loss: 19.500\n",
      "In epoch 135, loss: 19.834\n",
      "In epoch 140, loss: 20.215\n",
      "In epoch 145, loss: 14.872\n",
      "In epoch 150, loss: 15.342\n",
      "In epoch 155, loss: 15.250\n",
      "In epoch 160, loss: 15.616\n",
      "In epoch 165, loss: 15.991\n",
      "In epoch 170, loss: 16.342\n",
      "In epoch 175, loss: 16.707\n",
      "In epoch 180, loss: 17.084\n",
      "In epoch 185, loss: 17.386\n",
      "In epoch 190, loss: 17.761\n",
      "In epoch 195, loss: 18.128\n",
      "In epoch 200, loss: 18.498\n",
      "In epoch 205, loss: 18.875\n",
      "In epoch 210, loss: 19.209\n",
      "In epoch 215, loss: 19.589\n",
      "In epoch 220, loss: 14.247\n",
      "In epoch 225, loss: 14.707\n",
      "In epoch 230, loss: 14.625\n",
      "In epoch 235, loss: 14.991\n",
      "In epoch 240, loss: 15.340\n",
      "In epoch 245, loss: 15.739\n",
      "In epoch 250, loss: 16.082\n",
      "In epoch 255, loss: 16.416\n",
      "In epoch 260, loss: 16.760\n",
      "In epoch 265, loss: 17.127\n",
      "In epoch 270, loss: 17.508\n",
      "In epoch 275, loss: 17.874\n",
      "In epoch 280, loss: 18.239\n",
      "In epoch 285, loss: 18.583\n",
      "In epoch 290, loss: 18.918\n",
      "In epoch 295, loss: 13.617\n",
      "In epoch 300, loss: 14.043\n",
      "In epoch 305, loss: 13.999\n",
      "In epoch 310, loss: 14.366\n",
      "In epoch 315, loss: 14.717\n",
      "In epoch 320, loss: 15.092\n",
      "In epoch 325, loss: 15.410\n",
      "In epoch 330, loss: 15.785\n",
      "In epoch 335, loss: 16.135\n",
      "In epoch 340, loss: 16.502\n",
      "In epoch 345, loss: 16.878\n",
      "In epoch 350, loss: 17.217\n",
      "In epoch 355, loss: 17.592\n",
      "In epoch 360, loss: 17.959\n",
      "In epoch 365, loss: 18.293\n",
      "In epoch 370, loss: 12.997\n",
      "In epoch 375, loss: 13.418\n",
      "In epoch 380, loss: 13.364\n",
      "In epoch 385, loss: 13.741\n",
      "In epoch 390, loss: 14.090\n",
      "In epoch 395, loss: 14.418\n",
      "In epoch 400, loss: 14.783\n",
      "In epoch 405, loss: 15.134\n",
      "In epoch 410, loss: 15.511\n",
      "In epoch 415, loss: 15.876\n",
      "In epoch 420, loss: 16.242\n",
      "In epoch 425, loss: 16.590\n",
      "In epoch 430, loss: 16.957\n",
      "In epoch 435, loss: 17.334\n",
      "In epoch 440, loss: 17.667\n",
      "In epoch 445, loss: 12.366\n",
      "In epoch 450, loss: 12.832\n",
      "In epoch 455, loss: 12.740\n",
      "In epoch 460, loss: 13.115\n",
      "In epoch 465, loss: 13.418\n",
      "In epoch 470, loss: 13.793\n",
      "In epoch 475, loss: 14.160\n",
      "In epoch 480, loss: 14.509\n",
      "In epoch 485, loss: 14.885\n",
      "In epoch 490, loss: 15.241\n",
      "In epoch 495, loss: 15.616\n",
      "In epoch 500, loss: 15.966\n",
      "In epoch 505, loss: 16.333\n",
      "In epoch 510, loss: 16.708\n",
      "In epoch 515, loss: 17.010\n",
      "In epoch 520, loss: 11.742\n",
      "In epoch 525, loss: 12.168\n",
      "In epoch 530, loss: 12.114\n",
      "In epoch 535, loss: 12.458\n",
      "In epoch 540, loss: 12.791\n",
      "In epoch 545, loss: 13.158\n",
      "In epoch 550, loss: 13.535\n",
      "In epoch 555, loss: 13.883\n",
      "In epoch 560, loss: 14.250\n",
      "In epoch 565, loss: 14.614\n",
      "In epoch 570, loss: 14.965\n",
      "In epoch 575, loss: 15.342\n",
      "In epoch 580, loss: 15.707\n",
      "In epoch 585, loss: 16.035\n",
      "In epoch 590, loss: 16.384\n",
      "In epoch 595, loss: 11.084\n",
      "In epoch 600, loss: 11.511\n",
      "In epoch 605, loss: 11.457\n",
      "In epoch 610, loss: 11.832\n",
      "In epoch 615, loss: 12.166\n",
      "In epoch 620, loss: 12.510\n",
      "In epoch 625, loss: 12.908\n",
      "In epoch 630, loss: 13.247\n",
      "In epoch 635, loss: 13.623\n",
      "In epoch 640, loss: 20.965\n",
      "In epoch 645, loss: 21.332\n",
      "In epoch 650, loss: 21.668\n",
      "In epoch 655, loss: 22.082\n",
      "In epoch 660, loss: 16.751\n",
      "In epoch 665, loss: 16.749\n",
      "In epoch 670, loss: 17.116\n",
      "In epoch 675, loss: 17.466\n",
      "In epoch 680, loss: 17.841\n",
      "In epoch 685, loss: 18.160\n",
      "In epoch 690, loss: 18.541\n",
      "In epoch 695, loss: 18.885\n",
      "In epoch 700, loss: 19.253\n",
      "In epoch 705, loss: 19.628\n",
      "In epoch 710, loss: 19.967\n",
      "In epoch 715, loss: 20.365\n",
      "In epoch 720, loss: 20.709\n",
      "In epoch 725, loss: 21.043\n",
      "In epoch 730, loss: 21.418\n",
      "In epoch 735, loss: 16.125\n",
      "In epoch 740, loss: 16.125\n",
      "In epoch 745, loss: 16.491\n",
      "In epoch 750, loss: 16.842\n",
      "In epoch 755, loss: 17.217\n",
      "In epoch 760, loss: 17.535\n",
      "In epoch 765, loss: 17.911\n",
      "In epoch 770, loss: 18.261\n",
      "In epoch 775, loss: 18.628\n",
      "In epoch 780, loss: 19.003\n",
      "In epoch 785, loss: 19.342\n",
      "In epoch 790, loss: 19.739\n",
      "In epoch 795, loss: 20.089\n",
      "In epoch 800, loss: 20.457\n",
      "In epoch 805, loss: 20.832\n",
      "In epoch 810, loss: 15.491\n",
      "In epoch 815, loss: 15.500\n",
      "In epoch 820, loss: 15.867\n",
      "In epoch 825, loss: 16.215\n",
      "In epoch 830, loss: 16.582\n",
      "In epoch 835, loss: 16.910\n",
      "In epoch 840, loss: 17.291\n",
      "In epoch 845, loss: 17.658\n",
      "In epoch 850, loss: 18.002\n",
      "In epoch 855, loss: 18.372\n",
      "In epoch 860, loss: 18.717\n",
      "In epoch 865, loss: 19.114\n",
      "In epoch 870, loss: 19.465\n",
      "In epoch 875, loss: 19.793\n",
      "In epoch 880, loss: 20.158\n",
      "In epoch 885, loss: 14.877\n",
      "In epoch 890, loss: 14.876\n",
      "In epoch 895, loss: 15.249\n",
      "In epoch 900, loss: 15.614\n",
      "In epoch 905, loss: 15.958\n",
      "In epoch 910, loss: 16.293\n",
      "In epoch 915, loss: 16.668\n",
      "In epoch 920, loss: 17.035\n",
      "In epoch 925, loss: 17.383\n",
      "In epoch 930, loss: 17.760\n",
      "In epoch 935, loss: 18.116\n",
      "In epoch 940, loss: 18.491\n",
      "In epoch 945, loss: 18.842\n",
      "In epoch 950, loss: 19.207\n",
      "In epoch 955, loss: 19.583\n",
      "In epoch 960, loss: 14.258\n",
      "In epoch 965, loss: 14.253\n",
      "In epoch 970, loss: 14.625\n",
      "In epoch 975, loss: 14.992\n",
      "In epoch 980, loss: 15.372\n",
      "In epoch 985, loss: 15.707\n",
      "In epoch 990, loss: 16.082\n",
      "In epoch 995, loss: 16.416\n"
     ]
    }
   ],
   "source": [
    "dataset = graph_list[:100]\n",
    "lr = 0.01\n",
    "epochs = 1000\n",
    "h_feats = 4\n",
    "\n",
    "model = GCN(in_feats=4, h_feats=h_feats)\n",
    "labels = torch.Tensor(energy_data)\n",
    "loss_list = train(dataset, model, labels, lr, epochs)\n",
    "print(\"min loss: {:.3f}\".format(min(loss_list)))"
   ],
   "metadata": {
    "collapsed": false,
    "pycharm": {
     "name": "#%%\n"
    }
   }
  },
  {
   "cell_type": "code",
   "execution_count": 372,
   "outputs": [
    {
     "data": {
      "text/plain": "<Figure size 432x288 with 1 Axes>",
      "image/png": "[encoded data removed]"
     },
     "metadata": {
      "needs_background": "light"
     },
     "output_type": "display_data"
    }
   ],
   "source": [
    "plot_loss(loss_list, epochs)"
   ],
   "metadata": {
    "collapsed": false,
    "pycharm": {
     "name": "#%%\n"
    }
   }
  },
  {
   "cell_type": "markdown",
   "source": [
    "### Test Training 3\n",
    "\n",
    "graph type: k-nn graph\n",
    "number of incidents: 100\n",
    "epochs: 1000\n",
    "opt: Adam\n",
    "loss function: abs\n",
    "dim of hidden features: 16"
   ],
   "metadata": {
    "collapsed": false,
    "pycharm": {
     "name": "#%% md\n"
    }
   }
  },
  {
   "cell_type": "code",
   "execution_count": 400,
   "outputs": [
    {
     "name": "stdout",
     "output_type": "stream",
     "text": [
      "In epoch 0, loss: 3673.206\n",
      "In epoch 5, loss: 1177.867\n",
      "In epoch 10, loss: 28.252\n",
      "In epoch 15, loss: 18.209\n",
      "In epoch 20, loss: 36.359\n",
      "In epoch 25, loss: 0.788\n",
      "In epoch 30, loss: 45.980\n",
      "In epoch 35, loss: 22.745\n",
      "In epoch 40, loss: 50.525\n",
      "In epoch 45, loss: 36.587\n",
      "In epoch 50, loss: 54.681\n",
      "In epoch 55, loss: 45.523\n",
      "In epoch 60, loss: 42.259\n",
      "In epoch 65, loss: 41.359\n",
      "In epoch 70, loss: 47.431\n",
      "In epoch 75, loss: 61.005\n",
      "In epoch 80, loss: 53.751\n",
      "In epoch 85, loss: 15.854\n",
      "In epoch 90, loss: 63.972\n",
      "In epoch 95, loss: 57.171\n",
      "In epoch 100, loss: 61.045\n",
      "In epoch 105, loss: 68.848\n",
      "In epoch 110, loss: 75.958\n",
      "In epoch 115, loss: 69.290\n",
      "In epoch 120, loss: 103.690\n",
      "In epoch 125, loss: 48.720\n",
      "In epoch 130, loss: 84.650\n",
      "In epoch 135, loss: 117.543\n",
      "In epoch 140, loss: 72.717\n",
      "In epoch 145, loss: 56.840\n",
      "In epoch 150, loss: 116.290\n",
      "In epoch 155, loss: 108.695\n",
      "In epoch 160, loss: 63.065\n",
      "In epoch 165, loss: 98.862\n",
      "In epoch 170, loss: 113.648\n",
      "In epoch 175, loss: 105.073\n",
      "In epoch 180, loss: 112.406\n",
      "In epoch 185, loss: 107.967\n",
      "In epoch 190, loss: 102.878\n",
      "In epoch 195, loss: 43.340\n",
      "In epoch 200, loss: 47.995\n",
      "In epoch 205, loss: 95.573\n",
      "In epoch 210, loss: 137.219\n",
      "In epoch 215, loss: 97.667\n",
      "In epoch 220, loss: 61.470\n",
      "In epoch 225, loss: 64.419\n",
      "In epoch 230, loss: 108.419\n",
      "In epoch 235, loss: 116.867\n",
      "In epoch 240, loss: 136.962\n",
      "In epoch 245, loss: 110.218\n",
      "In epoch 250, loss: 57.905\n",
      "In epoch 255, loss: 97.639\n",
      "In epoch 260, loss: 126.242\n",
      "In epoch 265, loss: 71.847\n",
      "In epoch 270, loss: 72.064\n",
      "In epoch 275, loss: 101.161\n",
      "In epoch 280, loss: 85.662\n",
      "In epoch 285, loss: 76.688\n",
      "In epoch 290, loss: 82.854\n",
      "In epoch 295, loss: 101.455\n",
      "In epoch 300, loss: 90.288\n",
      "In epoch 305, loss: 117.501\n",
      "In epoch 310, loss: 69.148\n",
      "In epoch 315, loss: 99.230\n",
      "In epoch 320, loss: 100.765\n",
      "In epoch 325, loss: 106.038\n",
      "In epoch 330, loss: 115.418\n",
      "In epoch 335, loss: 116.068\n",
      "In epoch 340, loss: 78.074\n",
      "In epoch 345, loss: 71.079\n",
      "In epoch 350, loss: 77.367\n",
      "In epoch 355, loss: 103.050\n",
      "In epoch 360, loss: 55.856\n",
      "In epoch 365, loss: 63.394\n",
      "In epoch 370, loss: 70.424\n",
      "In epoch 375, loss: 77.359\n",
      "In epoch 380, loss: 98.061\n",
      "In epoch 385, loss: 113.411\n",
      "In epoch 390, loss: 65.798\n",
      "In epoch 395, loss: 99.816\n",
      "In epoch 400, loss: 83.128\n",
      "In epoch 405, loss: 108.900\n",
      "In epoch 410, loss: 90.314\n",
      "In epoch 415, loss: 42.492\n",
      "In epoch 420, loss: 86.885\n",
      "In epoch 425, loss: 72.981\n",
      "In epoch 430, loss: 119.389\n",
      "In epoch 435, loss: 56.426\n",
      "In epoch 440, loss: 67.287\n",
      "In epoch 445, loss: 108.528\n",
      "In epoch 450, loss: 97.007\n",
      "In epoch 455, loss: 110.974\n",
      "In epoch 460, loss: 39.361\n",
      "In epoch 465, loss: 79.394\n",
      "In epoch 470, loss: 61.541\n",
      "In epoch 475, loss: 95.311\n",
      "In epoch 480, loss: 103.998\n",
      "In epoch 485, loss: 49.812\n",
      "In epoch 490, loss: 70.958\n",
      "In epoch 495, loss: 96.253\n",
      "In epoch 500, loss: 114.960\n",
      "In epoch 505, loss: 30.173\n",
      "In epoch 510, loss: 52.186\n",
      "In epoch 515, loss: 56.710\n",
      "In epoch 520, loss: 82.223\n",
      "In epoch 525, loss: 111.949\n",
      "In epoch 530, loss: 80.850\n",
      "In epoch 535, loss: 52.222\n",
      "In epoch 540, loss: 77.179\n",
      "In epoch 545, loss: 106.571\n",
      "In epoch 550, loss: 125.452\n",
      "In epoch 555, loss: 49.105\n",
      "In epoch 560, loss: 63.658\n",
      "In epoch 565, loss: 66.058\n",
      "In epoch 570, loss: 83.939\n",
      "In epoch 575, loss: 90.666\n",
      "In epoch 580, loss: 55.857\n",
      "In epoch 585, loss: 47.962\n",
      "In epoch 590, loss: 61.952\n",
      "In epoch 595, loss: 114.718\n",
      "In epoch 600, loss: 82.464\n",
      "In epoch 605, loss: 103.003\n",
      "In epoch 610, loss: 35.090\n",
      "In epoch 615, loss: 28.316\n",
      "In epoch 620, loss: 94.974\n",
      "In epoch 625, loss: 86.832\n",
      "In epoch 630, loss: 112.640\n",
      "In epoch 635, loss: 75.125\n",
      "In epoch 640, loss: 55.472\n",
      "In epoch 645, loss: 76.571\n",
      "In epoch 650, loss: 101.841\n",
      "In epoch 655, loss: 125.484\n",
      "In epoch 660, loss: 65.827\n",
      "In epoch 665, loss: 66.449\n",
      "In epoch 670, loss: 89.644\n",
      "In epoch 675, loss: 115.135\n",
      "In epoch 680, loss: 77.101\n",
      "In epoch 685, loss: 65.658\n",
      "In epoch 690, loss: 77.354\n",
      "In epoch 695, loss: 116.994\n",
      "In epoch 700, loss: 90.536\n",
      "In epoch 705, loss: 36.952\n",
      "In epoch 710, loss: 79.925\n",
      "In epoch 715, loss: 121.353\n",
      "In epoch 720, loss: 78.412\n",
      "In epoch 725, loss: 96.307\n",
      "In epoch 730, loss: 127.075\n",
      "In epoch 735, loss: 48.784\n",
      "In epoch 740, loss: 30.898\n",
      "In epoch 745, loss: 94.153\n",
      "In epoch 750, loss: 96.380\n",
      "In epoch 755, loss: 92.805\n",
      "In epoch 760, loss: 85.072\n",
      "In epoch 765, loss: 82.357\n",
      "In epoch 770, loss: 66.203\n",
      "In epoch 775, loss: 80.026\n",
      "In epoch 780, loss: 94.738\n",
      "In epoch 785, loss: 128.720\n",
      "In epoch 790, loss: 111.293\n",
      "In epoch 795, loss: 64.670\n",
      "In epoch 800, loss: 88.363\n",
      "In epoch 805, loss: 109.733\n",
      "In epoch 810, loss: 128.736\n",
      "In epoch 815, loss: 86.231\n",
      "In epoch 820, loss: 43.197\n",
      "In epoch 825, loss: 80.113\n",
      "In epoch 830, loss: 105.622\n",
      "In epoch 835, loss: 133.122\n",
      "In epoch 840, loss: 79.710\n",
      "In epoch 845, loss: 76.532\n",
      "In epoch 850, loss: 96.160\n",
      "In epoch 855, loss: 121.396\n",
      "In epoch 860, loss: 78.877\n",
      "In epoch 865, loss: 40.650\n",
      "In epoch 870, loss: 77.337\n",
      "In epoch 875, loss: 99.985\n",
      "In epoch 880, loss: 97.410\n",
      "In epoch 885, loss: 128.077\n",
      "In epoch 890, loss: 71.589\n",
      "In epoch 895, loss: 41.816\n",
      "In epoch 900, loss: 84.327\n",
      "In epoch 905, loss: 104.208\n",
      "In epoch 910, loss: 106.646\n",
      "In epoch 915, loss: 108.747\n",
      "In epoch 920, loss: 43.678\n",
      "In epoch 925, loss: 107.679\n",
      "In epoch 930, loss: 91.012\n",
      "In epoch 935, loss: 103.056\n",
      "In epoch 940, loss: 73.371\n",
      "In epoch 945, loss: 42.000\n",
      "In epoch 950, loss: 103.199\n",
      "In epoch 955, loss: 95.687\n",
      "In epoch 960, loss: 120.460\n",
      "In epoch 965, loss: 107.988\n",
      "In epoch 970, loss: 76.714\n",
      "In epoch 975, loss: 85.989\n",
      "In epoch 980, loss: 105.281\n",
      "In epoch 985, loss: 113.117\n",
      "In epoch 990, loss: 66.982\n",
      "In epoch 995, loss: 60.427\n"
     ]
    }
   ],
   "source": [
    "dataset = knn_graph_list[:100]\n",
    "lr = 0.01\n",
    "epochs = 1000\n",
    "h_feats = 16\n",
    "\n",
    "model = GCN(in_feats=4, h_feats=h_feats)\n",
    "labels = torch.Tensor(energy_data)\n",
    "loss_list = train(dataset, model, labels, lr, epochs)"
   ],
   "metadata": {
    "collapsed": false,
    "pycharm": {
     "name": "#%%\n"
    }
   }
  },
  {
   "cell_type": "code",
   "execution_count": 401,
   "outputs": [
    {
     "name": "stdout",
     "output_type": "stream",
     "text": [
      "min loss: 0.788\n"
     ]
    }
   ],
   "source": [
    "print(\"min loss: {:.3f}\".format(min(loss_list)))"
   ],
   "metadata": {
    "collapsed": false,
    "pycharm": {
     "name": "#%%\n"
    }
   }
  },
  {
   "cell_type": "code",
   "execution_count": 402,
   "outputs": [
    {
     "data": {
      "text/plain": "<Figure size 432x288 with 1 Axes>",
      "image/png": "[encoded data removed]"
     },
     "metadata": {
      "needs_background": "light"
     },
     "output_type": "display_data"
    }
   ],
   "source": [
    "plot_loss(loss_list, epochs)"
   ],
   "metadata": {
    "collapsed": false,
    "pycharm": {
     "name": "#%%\n"
    }
   }
  },
  {
   "cell_type": "markdown",
   "source": [
    "### Test Training 4\n",
    "\n",
    "graph type: k-nn graph\n",
    "number of incidents: 1000\n",
    "epochs: 100\n",
    "opt: Adam\n",
    "loss function: abs\n",
    "dim of hidden features: 16"
   ],
   "metadata": {
    "collapsed": false,
    "pycharm": {
     "name": "#%% md\n"
    }
   }
  },
  {
   "cell_type": "code",
   "execution_count": 396,
   "outputs": [
    {
     "name": "stderr",
     "output_type": "stream",
     "text": [
      "/Users/kasphysm/miniforge3/envs/pytorch-nightly/lib/python3.8/site-packages/torch/amp/autocast_mode.py:198: UserWarning: User provided device_type of 'cuda', but CUDA is not available. Disabling\n",
      "  warnings.warn('User provided device_type of \\'cuda\\', but CUDA is not available. Disabling')\n"
     ]
    },
    {
     "name": "stdout",
     "output_type": "stream",
     "text": [
      "In epoch 0, loss: 7797.876\n",
      "In epoch 5, loss: 9723.191\n",
      "In epoch 10, loss: 9680.385\n",
      "In epoch 15, loss: 9682.990\n",
      "In epoch 20, loss: 9676.445\n",
      "In epoch 25, loss: 9696.044\n",
      "In epoch 30, loss: 9670.901\n",
      "In epoch 35, loss: 9673.746\n",
      "In epoch 40, loss: 9702.613\n",
      "In epoch 45, loss: 9671.406\n",
      "In epoch 50, loss: 9695.039\n",
      "In epoch 55, loss: 9679.957\n",
      "In epoch 60, loss: 9673.216\n",
      "In epoch 65, loss: 9715.562\n",
      "In epoch 70, loss: 9683.464\n",
      "In epoch 75, loss: 9698.736\n",
      "In epoch 80, loss: 9671.491\n",
      "In epoch 85, loss: 9666.663\n",
      "In epoch 90, loss: 9706.817\n",
      "In epoch 95, loss: 9684.310\n"
     ]
    }
   ],
   "source": [
    "dataset = knn_graph_list[:1000]\n",
    "lr = 0.01\n",
    "epochs = 100\n",
    "h_feats = 16\n",
    "\n",
    "model = GCN(in_feats=4, h_feats=16)\n",
    "labels = torch.Tensor(energy_data)\n",
    "loss_list = train(knn_graph_list, model, labels, lr, epochs)"
   ],
   "metadata": {
    "collapsed": false,
    "pycharm": {
     "name": "#%%\n"
    }
   }
  },
  {
   "cell_type": "code",
   "execution_count": 397,
   "outputs": [
    {
     "name": "stdout",
     "output_type": "stream",
     "text": [
      "min loss: 7797.876\n"
     ]
    }
   ],
   "source": [
    "print(\"min loss: {:.3f}\".format(min(loss_list)))"
   ],
   "metadata": {
    "collapsed": false,
    "pycharm": {
     "name": "#%%\n"
    }
   }
  },
  {
   "cell_type": "code",
   "execution_count": 398,
   "outputs": [
    {
     "data": {
      "text/plain": "<Figure size 432x288 with 1 Axes>",
      "image/png": "[encoded data removed]"
     },
     "metadata": {
      "needs_background": "light"
     },
     "output_type": "display_data"
    }
   ],
   "source": [
    "plot_loss(loss_list, epochs)"
   ],
   "metadata": {
    "collapsed": false,
    "pycharm": {
     "name": "#%%\n"
    }
   }
  },
  {
   "cell_type": "markdown",
   "source": [
    "## Batch Training"
   ],
   "metadata": {
    "collapsed": false,
    "pycharm": {
     "name": "#%% md\n"
    }
   }
  },
  {
   "cell_type": "code",
   "execution_count": null,
   "outputs": [],
   "source": [
    "class ShowerDataset(DGLDataset):\n",
    "    def __init__(self, graphs, labels):\n",
    "        super().__init__(name='shower')\n",
    "        self.graphs = graphs\n",
    "        self.labels = labels\n",
    "\n",
    "    def process(self):\n",
    "        pass\n",
    "\n",
    "    def __getitem__(self, i):\n",
    "        return self.graphs[i], self.labels[i]\n",
    "\n",
    "    def __len__(self):\n",
    "        return len(self.graphs)"
   ],
   "metadata": {
    "collapsed": false,
    "pycharm": {
     "name": "#%%\n"
    }
   }
  },
  {
   "cell_type": "code",
   "execution_count": 517,
   "outputs": [],
   "source": [
    "def batch_train(model, train_dataloader, lr, epochs):\n",
    "    loss_list = []\n",
    "    optimizer = torch.optim.Adam(model.parameters(), lr=lr)\n",
    "\n",
    "    for epoch in range(epochs):\n",
    "        for batched_graph, labels in train_dataloader:\n",
    "            pred = model(batched_graph, batched_graph.ndata['x'])\n",
    "            loss = abs(pred - labels).mean()\n",
    "            optimizer.zero_grad()\n",
    "            loss.backward()\n",
    "            optimizer.step()\n",
    "\n",
    "        loss_list.append(float(loss))\n",
    "\n",
    "        if epoch % (epochs / 100) == 0:\n",
    "            print('In epoch {}, loss: {:.3f}'.format(epoch, loss))\n",
    "\n",
    "    return loss_list"
   ],
   "metadata": {
    "collapsed": false,
    "pycharm": {
     "name": "#%%\n"
    }
   }
  },
  {
   "cell_type": "markdown",
   "source": [
    "### Test Training 5\n",
    "\n",
    "graph type: complete graph\n",
    "number of incidents: 10000\n",
    "epochs: 100\n",
    "batch_size: 5\n",
    "opt: Adam\n",
    "loss function: abs\n",
    "dim of hidden features: 16"
   ],
   "metadata": {
    "collapsed": false,
    "pycharm": {
     "name": "#%% md\n"
    }
   }
  },
  {
   "cell_type": "code",
   "execution_count": 491,
   "outputs": [],
   "source": [
    "dataset = ShowerDataset(graph_list[:10000], torch.Tensor(energy_data))\n",
    "\n",
    "num_examples = len(dataset)\n",
    "num_train = int(num_examples * 0.8)\n",
    "\n",
    "train_sampler = SubsetRandomSampler(torch.arange(num_train))\n",
    "# test_sampler = SubsetRandomSampler(torch.arange(num_train, num_examples))\n",
    "\n",
    "train_dataloader = GraphDataLoader(dataset, sampler=train_sampler, batch_size=5, drop_last=False)\n",
    "# test_dataloader = GraphDataLoader(dataset, sampler=test_sampler, batch_size=5, drop_last=False)"
   ],
   "metadata": {
    "collapsed": false,
    "pycharm": {
     "name": "#%%\n"
    }
   }
  },
  {
   "cell_type": "code",
   "execution_count": 492,
   "outputs": [
    {
     "name": "stdout",
     "output_type": "stream",
     "text": [
      "In epoch 0, loss: 50559.168\n",
      "In epoch 5, loss: 2897.869\n",
      "In epoch 10, loss: 998.829\n",
      "In epoch 15, loss: 966.154\n",
      "In epoch 20, loss: 1018.665\n",
      "In epoch 25, loss: 123.425\n",
      "In epoch 30, loss: 1262.675\n",
      "In epoch 35, loss: 202.643\n",
      "In epoch 40, loss: 178.396\n",
      "In epoch 45, loss: 5270.423\n",
      "In epoch 50, loss: 213.793\n",
      "In epoch 55, loss: 207.949\n",
      "In epoch 60, loss: 463.780\n",
      "In epoch 65, loss: 339.277\n",
      "In epoch 70, loss: 1455.028\n",
      "In epoch 75, loss: 2461.503\n",
      "In epoch 80, loss: 1869.130\n",
      "In epoch 85, loss: 403.624\n",
      "In epoch 90, loss: 439.586\n",
      "In epoch 95, loss: 197.461\n",
      "min loss: 123.425\n"
     ]
    }
   ],
   "source": [
    "lr = 0.01\n",
    "epochs = 100\n",
    "h_feats = 16\n",
    "\n",
    "model = GCN(in_feats=4, h_feats=h_feats)\n",
    "loss_list = batch_train(model, train_dataloader, lr, epochs)\n",
    "print(\"min loss: {:.3f}\".format(min(loss_list)))"
   ],
   "metadata": {
    "collapsed": false,
    "pycharm": {
     "name": "#%%\n"
    }
   }
  },
  {
   "cell_type": "code",
   "execution_count": 493,
   "outputs": [
    {
     "data": {
      "text/plain": "<Figure size 432x288 with 1 Axes>",
      "image/png": "[encoded data removed]"
     },
     "metadata": {
      "needs_background": "light"
     },
     "output_type": "display_data"
    }
   ],
   "source": [
    "plot_loss(loss_list, epochs)"
   ],
   "metadata": {
    "collapsed": false,
    "pycharm": {
     "name": "#%%\n"
    }
   }
  },
  {
   "cell_type": "markdown",
   "source": [
    "### Test Training 6\n",
    "\n",
    "graph type: complete graph\n",
    "number of incidents: 10000\n",
    "epochs: 20\n",
    "batch_size: 32\n",
    "opt: Adam\n",
    "loss function: abs\n",
    "dim of hidden features: 4"
   ],
   "metadata": {
    "collapsed": false,
    "pycharm": {
     "name": "#%% md\n"
    }
   }
  },
  {
   "cell_type": "code",
   "execution_count": 496,
   "outputs": [],
   "source": [
    "dataset = ShowerDataset(graph_list[:10000], torch.Tensor(energy_data))\n",
    "\n",
    "num_examples = len(dataset)\n",
    "num_train = int(num_examples * 0.8)\n",
    "\n",
    "train_sampler = SubsetRandomSampler(torch.arange(num_train))\n",
    "# test_sampler = SubsetRandomSampler(torch.arange(num_train, num_examples))\n",
    "\n",
    "train_dataloader = GraphDataLoader(dataset, sampler=train_sampler, batch_size=32, drop_last=False)\n",
    "# test_dataloader = GraphDataLoader(dataset, sampler=test_sampler, batch_size=32, drop_last=False)"
   ],
   "metadata": {
    "collapsed": false,
    "pycharm": {
     "name": "#%%\n"
    }
   }
  },
  {
   "cell_type": "code",
   "execution_count": 518,
   "outputs": [
    {
     "name": "stdout",
     "output_type": "stream",
     "text": [
      "In epoch 0, loss: 112323.914\n",
      "min loss: 562.172\n"
     ]
    }
   ],
   "source": [
    "lr = 0.01\n",
    "epochs = 20\n",
    "h_feats = 4\n",
    "\n",
    "model = GCN(in_feats=4, h_feats=h_feats)\n",
    "loss_list = batch_train(model, train_dataloader, lr, epochs)\n",
    "print(\"min loss: {:.3f}\".format(min(loss_list)))"
   ],
   "metadata": {
    "collapsed": false,
    "pycharm": {
     "name": "#%%\n"
    }
   }
  },
  {
   "cell_type": "code",
   "execution_count": 519,
   "outputs": [
    {
     "data": {
      "text/plain": "<Figure size 432x288 with 1 Axes>",
      "image/png": "[encoded data removed]"
     },
     "metadata": {
      "needs_background": "light"
     },
     "output_type": "display_data"
    }
   ],
   "source": [
    "w = np.linspace(0, 20, 20)\n",
    "loss_array = np.array(loss_list)\n",
    "plt.axes(yscale = \"log\")\n",
    "plt.plot(w, loss_array, label='Loss')\n",
    "plt.xlabel('epochs')\n",
    "plt.ylabel('loss function')\n",
    "plt.show()"
   ],
   "metadata": {
    "collapsed": false,
    "pycharm": {
     "name": "#%%\n"
    }
   }
  },
  {
   "cell_type": "code",
   "execution_count": null,
   "outputs": [],
   "source": [],
   "metadata": {
    "collapsed": false,
    "pycharm": {
     "name": "#%%\n"
    }
   }
  }
 ],
 "metadata": {
  "kernelspec": {
   "display_name": "Python 3",
   "language": "python",
   "name": "python3"
  },
  "language_info": {
   "codemirror_mode": {
    "name": "ipython",
    "version": 2
   },
   "file_extension": ".py",
   "mimetype": "text/x-python",
   "name": "python",
   "nbconvert_exporter": "python",
   "pygments_lexer": "ipython2",
   "version": "2.7.6"
  }
 },
 "nbformat": 4,
 "nbformat_minor": 0
}